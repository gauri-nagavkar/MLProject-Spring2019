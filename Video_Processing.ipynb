{
 "cells": [
  {
   "cell_type": "code",
   "execution_count": 6,
   "metadata": {},
   "outputs": [],
   "source": [
    "import cv2\n",
    "import numpy as np\n",
    "import math"
   ]
  },
  {
   "cell_type": "code",
   "execution_count": 7,
   "metadata": {},
   "outputs": [
    {
     "name": "stdout",
     "output_type": "stream",
     "text": [
      "50.0\n"
     ]
    }
   ],
   "source": [
    "video = cv2.VideoCapture('video1.avi')\n",
    "fps = video.get(cv2.CAP_PROP_FPS)\n",
    "print(fps)"
   ]
  },
  {
   "cell_type": "markdown",
   "metadata": {},
   "source": [
    "Video is 50 frames per second, we need to extract 2 frames per second i.e. at intervals of 24 frames. We then store these into an array of images."
   ]
  },
  {
   "cell_type": "code",
   "execution_count": 8,
   "metadata": {},
   "outputs": [
    {
     "name": "stdout",
     "output_type": "stream",
     "text": [
      "Total number of frames:  3000.0\n"
     ]
    }
   ],
   "source": [
    "tot_frames=video.get(cv2.CAP_PROP_FRAME_COUNT)\n",
    "print(\"Total number of frames: \",tot_frames)"
   ]
  },
  {
   "cell_type": "code",
   "execution_count": 34,
   "metadata": {},
   "outputs": [],
   "source": [
    "count=0\n",
    "while video.isOpened():\n",
    "    ret,frame=video.read()\n",
    "    #print(ret)\n",
    "    n=int(count/24)\n",
    "    #print(n)\n",
    "    if ret is True:\n",
    "        cv2.imwrite('FRAMES/frame{:d}.jpg'.format(n), frame)\n",
    "        count += 24 #advance 24 frames\n",
    "        video.set(1,count)\n",
    "    else:\n",
    "        video.release()\n",
    "        break"
   ]
  },
  {
   "cell_type": "markdown",
   "metadata": {},
   "source": [
    "After this step, every 25th frame in the video is stored in the folder titled 'FRAMES'. We shall use these frames for emotion recognition."
   ]
  },
  {
   "cell_type": "markdown",
   "metadata": {},
   "source": [
    "### Video Processing - Part 2: Emotion Classification\n",
    "In this section, we write code for API calls to the Azure Face API for emotion classification on frames obtained in previous section."
   ]
  },
  {
   "cell_type": "code",
   "execution_count": 14,
   "metadata": {},
   "outputs": [],
   "source": [
    "import requests\n",
    "import json\n",
    "import cognitive_face as CF\n",
    "\n",
    "KEY = 'subscription key'  #API KEY\n",
    "CF.Key.set(KEY)\n",
    "\n",
    "BASE_URL = 'https://westus.api.cognitive.microsoft.com/face/v1.0/'  #API base URL\n",
    "CF.BaseUrl.set(BASE_URL)\n",
    "\n"
   ]
  },
  {
   "cell_type": "code",
   "execution_count": 17,
   "metadata": {},
   "outputs": [],
   "source": [
    "img_url = '' #URL of images, removed because of access restriction\n",
    "result = CF.face.detect(img_url)\n",
    "#print(result)"
   ]
  },
  {
   "cell_type": "code",
   "execution_count": null,
   "metadata": {},
   "outputs": [],
   "source": []
  }
 ],
 "metadata": {
  "kernelspec": {
   "display_name": "Python 3",
   "language": "python",
   "name": "python3"
  },
  "language_info": {
   "codemirror_mode": {
    "name": "ipython",
    "version": 3
   },
   "file_extension": ".py",
   "mimetype": "text/x-python",
   "name": "python",
   "nbconvert_exporter": "python",
   "pygments_lexer": "ipython3",
   "version": "3.6.8"
  }
 },
 "nbformat": 4,
 "nbformat_minor": 2
}
